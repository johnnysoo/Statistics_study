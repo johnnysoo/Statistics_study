{
 "cells": [
  {
   "cell_type": "markdown",
   "metadata": {},
   "source": [
    "### Lo 1. Marginal/Joint/Conditional Probability\n",
    "\n",
    "- Joint Probability : 사건 A와 B가 동시에 발생할 확률이다. A,B의 교집합의 확률을 계산하는 것과 같다.\n",
    "- Marginal Probability : Sample space에서 개별사건의 확률 P(A)와 P(B)를 계산하는 것이다.\n",
    "- Conditional Probability : B가 사실인 경우 사건 A에 대한 확률을 구하는 것이다.\n",
    "    - 사건 B가 사실이므로 모든 가능한 표본 사건은 사건 B에 포함되어야 한다. 즉 표본공간이 $ \\Omega \\rightarrow B$ \n",
    "    - 사건 A의 원소는 모두 사건 B의 원소도 되므로 사실상 사건 $A \\cap B$ 의 원소가 된다. 즉 $ A \\rightarrow A\\cap B $\n",
    "    - 따라서 사건 A의 확률, 즉 신뢰도는 원래의 신뢰도 (결합확률)을 새로운 표본 공간의 신뢰도로 정규화 한 값이라고 할 수 있다.\n",
    "    - B : 가정, 원인, 근거\n",
    "    - A : 결론, 결과, 추론\n",
    "<br/>\n",
    "$$\n",
    "P(A|B) = \\dfrac{P(A,B)}{P(B)}\n",
    "$$"
   ]
  },
  {
   "cell_type": "markdown",
   "metadata": {},
   "source": [
    "### Lo 2. Bayesian inference\n",
    "\n",
    "추론 대상의 사전확률과 추가적인 정보를 통해 해당 대상의 사후 확률을 추론하는 방법이다. 추론하는 대상을 확률 변수로 보아 그 변수의 확률 분포를 추정하는것을 의미한다.\n",
    "\n",
    "- Take advantage of prior information, like a previously published study or a physical model\n",
    "- Naturally integrate data as you collect it, and updata your priors.\n",
    "- Avoid the counter-intuitive definition of a p-value <br/> __P(observed or more extreme outcome | $H_0$ is ture)__\n",
    "- Base decisions on the posterior probability <br/> __P(hypothesis is true | observed data)__\n",
    "- Process\n",
    "    - Setting a prior\n",
    "    - Collecting data\n",
    "    - Obtaining a posterior\n",
    "    - updating the prior with the previous posterior\n"
   ]
  },
  {
   "cell_type": "code",
   "execution_count": null,
   "metadata": {
    "collapsed": true
   },
   "outputs": [],
   "source": []
  }
 ],
 "metadata": {
  "kernelspec": {
   "display_name": "Python 3",
   "language": "python",
   "name": "python3"
  },
  "language_info": {
   "codemirror_mode": {
    "name": "ipython",
    "version": 3
   },
   "file_extension": ".py",
   "mimetype": "text/x-python",
   "name": "python",
   "nbconvert_exporter": "python",
   "pygments_lexer": "ipython3",
   "version": "3.6.5"
  }
 },
 "nbformat": 4,
 "nbformat_minor": 2
}
