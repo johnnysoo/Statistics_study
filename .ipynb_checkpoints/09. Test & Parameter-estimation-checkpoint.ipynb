{
 "cells": [
  {
   "cell_type": "markdown",
   "metadata": {},
   "source": [
    "# Test & Parameter-Estimation\n",
    "\n",
    "> 분석하고자 하는 데이터는 어떤 확률 변수(random varialbe)로 부터 실현(realized)된 표본(sample)이다.\n",
    "\n",
    "<br/>\n",
    "확률 변수는 분포 모형(distribution model)과 모수(parameter)를 가진다. 따라서 확률 변수를 알아낸다는 것은 다음과 같은 질문에 답한다는 것이다.\n",
    "1. 해당 데이터가 특정한 분포 모형을 따르는가? (Normal 을 따르는가?)\n",
    "2. 만약 그렇다면 그 분포의 기댓값과 $\\mu$ 와 분산 $\\sigma^2$이 특정한 값을 가지고 있는가?\n",
    "3. 정규 분포의 기댓값 모수 $\\mu$가 0이 아니라면 구체적으로 어떤 값을 가질 것인가?"
   ]
  },
  {
   "cell_type": "markdown",
   "metadata": {},
   "source": [
    "#### 1. Distribution test : 해당 데이터가 특정한 분포 모형을 따르는가?\n",
    "\n",
    "- 확률 변수와 분포에 대한 가설이 맞는지 틀린지를 확인하는 확률 변수의 분포 검정 \n",
    "- Normality test : 확률 변수의 분포가 정규분포를 따른다는 가설을 설정한다."
   ]
  },
  {
   "cell_type": "markdown",
   "metadata": {},
   "source": [
    "#### 2. Parameter test : 모수가 특정한 값을 가지는가?\n",
    "\n",
    "- 확률분포가 어떤 모형을 따르는지는 이미 정해져 있는 상태에서 확률 밀도 함수의 계수, 모수(parameter)가 특정한 값을 가지는지?, 혹시 특정값과 비교하여 큰지 작은지가 궁금하다."
   ]
  },
  {
   "cell_type": "markdown",
   "metadata": {},
   "source": [
    "#### 3. Parameter estimation : 모수가 실제로 어떤 숫자를 가질 확률이 가장 높은가?\n",
    "- Frequentist Estimation : 가능 확률이 높은 숫자를 결정하는 방식\n",
    "    - MSE(Maximum Squred Error)\n",
    "    - MLE(Maximum Likelihood Estimation)\n",
    "- Bayesian Estimation : 가능한 모든 값에 대해 이 값이 모수가 될 확률을 계산하여 분포로 표시"
   ]
  },
  {
   "cell_type": "code",
   "execution_count": null,
   "metadata": {
    "collapsed": true
   },
   "outputs": [],
   "source": []
  }
 ],
 "metadata": {
  "kernelspec": {
   "display_name": "Python 3",
   "language": "python",
   "name": "python3"
  },
  "language_info": {
   "codemirror_mode": {
    "name": "ipython",
    "version": 3
   },
   "file_extension": ".py",
   "mimetype": "text/x-python",
   "name": "python",
   "nbconvert_exporter": "python",
   "pygments_lexer": "ipython3",
   "version": "3.6.5"
  }
 },
 "nbformat": 4,
 "nbformat_minor": 2
}
