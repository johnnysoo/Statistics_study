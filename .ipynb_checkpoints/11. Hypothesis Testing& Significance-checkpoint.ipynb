{
 "cells": [
  {
   "cell_type": "markdown",
   "metadata": {},
   "source": [
    "본 문서는 추가적으로 \n",
    "- http://www.csus.edu/indiv/j/jgehrman/courses/stat50/hypthesistests/9hyptest.htm \n",
    "을 참고했음을 밝힙니다."
   ]
  },
  {
   "cell_type": "markdown",
   "metadata": {},
   "source": [
    "# Hypothesis Testing\n",
    "\n",
    "#### How the hypothesis testing framework resembles a court trial\n",
    "- The person is innocent (null hypothesis)\n",
    "- The person is guilty (alternative hypothesis)\n",
    "<br/>\n",
    "\n",
    "#### Errors in court trial\n",
    "- The person is innocent but the jury finds the person guilty\n",
    "- The person is guilty but the jury declares the person to be innocents.\n",
    "- In our system of justice, the first error is condisered more serious than the second error. "
   ]
  },
  {
   "cell_type": "markdown",
   "metadata": {},
   "source": [
    "#### Recognize that in hypothesis testing we evaluate two competing clams\n",
    "- Null hypothesis : represents a skeptical perspective or the status quo\n",
    "- Alternative hypothesis : represents an alternative under consideration,  range of possible parameter vaule"
   ]
  },
  {
   "cell_type": "markdown",
   "metadata": {},
   "source": [
    "#### Construction of hypothese\n",
    "- Alway construct hypothese about population parameters.\n",
    "- Define the null value as the value the parameter is set to equal in the null hypothesis.\n",
    "- Depend on the research question, the alternative hypothesis might to be one-sided or two sided."
   ]
  },
  {
   "cell_type": "markdown",
   "metadata": {},
   "source": [
    "#### P-value : conditional prbability of obtaining a sample statistis\n",
    "- Conditional probability of obtaining a sample statisc at least as extreme as the one observed given that the null hypothesis is true.\n",
    "<br/>\n",
    "\n",
    "> A = Observed or more extreme sample statistic\n",
    "<br/>\n",
    "\n",
    "> $P-vaule$ = $P(A|H_0 True)$"
   ]
  },
  {
   "cell_type": "markdown",
   "metadata": {},
   "source": [
    "#### Compare the p-value to the significance level to make a decision between the hypotheses:\n",
    "\n",
    "- if the $p-value < significance-level$, reject null hypothesis since this means that obtain"
   ]
  },
  {
   "cell_type": "code",
   "execution_count": null,
   "metadata": {
    "collapsed": true
   },
   "outputs": [],
   "source": []
  }
 ],
 "metadata": {
  "kernelspec": {
   "display_name": "Python 3",
   "language": "python",
   "name": "python3"
  },
  "language_info": {
   "codemirror_mode": {
    "name": "ipython",
    "version": 3
   },
   "file_extension": ".py",
   "mimetype": "text/x-python",
   "name": "python",
   "nbconvert_exporter": "python",
   "pygments_lexer": "ipython3",
   "version": "3.6.3"
  }
 },
 "nbformat": 4,
 "nbformat_minor": 2
}
