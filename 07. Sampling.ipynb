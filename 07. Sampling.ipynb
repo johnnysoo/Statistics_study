{
 "cells": [
  {
   "cell_type": "markdown",
   "metadata": {},
   "source": [
    "# Sample-based models"
   ]
  },
  {
   "cell_type": "markdown",
   "metadata": {},
   "source": [
    "### Random sampling and Purposive sampling\n",
    "\n",
    "표본추출은 훈련데이터와 테스트데이터의 분리에도 중요한 역할을 합니다.\n",
    "- 데이터를 분리하지 않고 전체 데이턷를 모델링하여 모델 평가에 사용하게 되면 데이터에 내재하는 실제적 특징 외에 우연히 포함된 노이즈까지 반영된 모델링을 할 위험이 있습니다.\n",
    "- 모형이 과적함하게 되는 경우 예측력이 떨어지는 위험이 있습니다.\n",
    "\n",
    "\n",
    "- Random sampling\n",
    "    - Random distribution을 이용해서 신뢰구간을 만들 수 있다.\n",
    "    - 모집단의 분포와 관계없이 성립된다 (중심극한 정리를 만족한다면)\n",
    "    - 표본의 크다면 대표성이 확보됨\n",
    "    <br/>\n",
    "- Purposive sampling\n",
    "    - 주관적인 표본추출"
   ]
  },
  {
   "cell_type": "markdown",
   "metadata": {},
   "source": [
    "### Simple random sampling\n",
    "\n",
    "- 전체 데이터에서 각 데이터를 추출할 확률을 동일하게 하여 표본을 추출하는 방법입니다.\n",
    "    - Sampling with replacement\n",
    "    - Sampling without replacement\n",
    "        - 이 경우 Sample number < 10% of the population 이어야 합니다"
   ]
  },
  {
   "cell_type": "markdown",
   "metadata": {},
   "source": [
    "### Stratified random sampling\n",
    "- 데이터가 중첩 없이 분할될 수 있는 경우, 그리고 분할의 성격이 명확이 이질적인 경우\n",
    "- Strata 기준으로 나눠서 추출한다"
   ]
  },
  {
   "cell_type": "markdown",
   "metadata": {},
   "source": [
    "### Systematic sampling\n",
    "\n",
    "- 계통 추출은 모집단의 임의 위치에서 시작되 매 K번쨰 항목을 추출하는 방법입니다."
   ]
  },
  {
   "cell_type": "markdown",
   "metadata": {},
   "source": [
    "### Forward sampling"
   ]
  },
  {
   "cell_type": "markdown",
   "metadata": {},
   "source": [
    "### Rejection sampling"
   ]
  },
  {
   "cell_type": "markdown",
   "metadata": {},
   "source": [
    "### Metropolis Hasting"
   ]
  },
  {
   "cell_type": "markdown",
   "metadata": {},
   "source": [
    "### Monte Carlo Method\n",
    "- 여러 개의 표본을 추출해서 전체적인 분포를 파악하는 방법론. 임의적으로 샘플링한 결과로 실제 결과를 추측하는 것\n",
    "- 랜덤 표본을 뽑아 함수값을 확률적으로 계산하는 알고리즘.(Deterministic Algorithm과 정 반대임)\n",
    "- 계산값이 닫은 형식으로 표현되지 않거나, 복잡한 경우, 그 값을 근사적으로 계산하려고 쓰임.\n",
    "> Example : 원주율 계산\n",
    "    1. [0,1]x[0,1]에서 점 Math processing error 를 무작위로 뽑는다.\n",
    "    2. Math Processing Error 는 점의 중심이 (0,0)이고 반지름이 1인 원에 속하는가?\n",
    "    3. 위 두 과정을 충분히 방봅한다.\n",
    "    4. 전체 점의 개수를 빨간점의 개수로 나눈 비율이 넓이의 값에 근사합니다."
   ]
  },
  {
   "cell_type": "markdown",
   "metadata": {},
   "source": [
    "### Markov chain (마코프 연쇄)\n",
    "- 마코프 가정을 따르는 이산 시간 확률 과정입니다.\n",
    "- 특정 시점의 상태확률은 그 이전의 상태에만 의존합니다.\n",
    "- 즉 한 상태에서 다른 상태로 전이는 그동아 상태 전이에 대한 긴 이력이 아닌 직전 상태에서의 전이로 추정할수 있습니다.\n",
    "\n",
    "> ### Iteration\n",
    "    1. 마코프 연쇄를 반복하다 보면, 현재 상태의 확률이 직전 상태의 확률과 같아지게, 즉 수렴하게 됩니다.\n",
    "    2. 이렇게 평형 상태에 도달한 확률 분포를 정적분포(Stationary distribution)이라고 합니다.\n",
    "    \n",
    "> ### Stationary Distribution \n",
    "    t 시점에 따른 확률변수들이 어떠한 결합확률분포(joint distribution)의 결과로 이루어졌다고 볼 때 t 가 변하더라도 이러한 공식이 적용된다면 이는 정성적, 즉 stationary 분포라고 본다.. 즉, 시점이 변하더라도 그 때의 확률에 영향을 미치는 요인들이 지속된다면 그것이 Stationary!!\n",
    "\n"
   ]
  },
  {
   "cell_type": "markdown",
   "metadata": {},
   "source": [
    "### Markov chain Monta Carlo Method\n",
    "- n 단계의 값이 바로 이전인 n-1단계의 값들을 기반으로 계산된 확률 분포에서 랜덤으로 값을 추출하여 계산량을 줄이는 방법이다\n",
    "- 마코프 연쇄에 기반한 확률 분포로 부터, 표본을 추출하는 몬테카를로 방법입니다.\n",
    "> 우리가 샘플을 얻으려고 하는 목표분포를 Stationary Distribution을 가지는 마코프 체인을 만든다. 체인을 가동하고, 초기값의 영향을 받는 brun-in period를 지나고 나면 목표분포를 따르는 샘플이 만들어진다."
   ]
  },
  {
   "cell_type": "markdown",
   "metadata": {},
   "source": [
    "### Gibbs sampling\n",
    "\n",
    "- 깁스 샘플링은 두 개 이상의 확률 변수의 __결합 확률 분포__로서 일련의 표본을 생성하는 확률적 알고리즘입니다. 마코프 연쇄 몬테카를로 방법(MCMC)알고리즘의 한 예입니다.\n",
    "\n",
    "- 처음 하나의 초기 샘플을 랜덤하게 정한다음, 그 샘플에서 차원 1개씩 순차적으로 정하는 방법입니다.\n",
    "- n번째 값을 정할 경우, 그 이외의 차원들은 고정된 값으로 봅니다. Condtional probability를 알아야만 사용이 가능합니다."
   ]
  },
  {
   "cell_type": "code",
   "execution_count": null,
   "metadata": {
    "collapsed": true
   },
   "outputs": [],
   "source": []
  },
  {
   "cell_type": "code",
   "execution_count": null,
   "metadata": {
    "collapsed": true
   },
   "outputs": [],
   "source": []
  }
 ],
 "metadata": {
  "kernelspec": {
   "display_name": "Python 3",
   "language": "python",
   "name": "python3"
  },
  "language_info": {
   "codemirror_mode": {
    "name": "ipython",
    "version": 3
   },
   "file_extension": ".py",
   "mimetype": "text/x-python",
   "name": "python",
   "nbconvert_exporter": "python",
   "pygments_lexer": "ipython3",
   "version": "3.6.5"
  }
 },
 "nbformat": 4,
 "nbformat_minor": 2
}
