{
 "cells": [
  {
   "cell_type": "markdown",
   "metadata": {},
   "source": [
    "### Lo.1 Normal distribution (Gaussian distribution)\n",
    "\n",
    "- 정규 분포 특성값이 연속적인 무한모집단 분포의 일종입니다. 확률 밀도함수는 다음과 같다\n",
    "$$f(x | \\mu ,\\sigma )=\\frac { 1 }{ \\sqrt { 2\\pi  } \\sigma  } exp\\left( -\\frac { { (x-\\mu ) }^{ 2 } }{ 2{ \\sigma  }^{ 2 } }  \\right)$$\n",
    "\n"
   ]
  },
  {
   "cell_type": "markdown",
   "metadata": {},
   "source": [
    "\n",
    "#### 유도과정 \n",
    "\n",
    "> 직관 : 정규분포를 인정한다면, 측정값의 평균을 실제값이라 여기는 우리의 직관은 옳다\n",
    "<br/>\n",
    "1. 측정값 $x$이 실제값 $\\mu$를 평균으로 하는 정규분포를 따른다면, 즉 __오차$\\varepsilon = x -\\mu$__ 가 평균 0인 정규분포를 따른다면\n",
    "2. 실제값 $\\mu$ MLE, 즉 실제값의 가능성이 가장 높은 값은 측정값의 평균이다\n",
    "<br/>\n",
    "\n",
    "> 가우스 논리 : 측정값의 평균을 실제값이라고 여기는 우리의 직관이 옳다면, 오차는 정규분포를 따른다.\n",
    "<br/>\n",
    "1. 실제값의 MLE, 즉 실제값일 평균이 가장 높은 값이 측정값의 평균이라면\n",
    "2. 오차는 정규분포를 따른다.\n",
    "3. 또한 +오차와 -오차가 나올 가능성은 같다. 즉 오차의 분포를 나타내는 확률 밀도함수 $f$는 $f(-\\varepsilon)=f(\\varepsilon)$이다\n",
    "4. 작은 오차가 나올 가능성이 큰 오차가 나올 가능성보다 크다. 즉 $f(\\varepsilon)$는 위로 볼록이다.\n",
    "5. $f(\\varepsilon)$는 2번 미분 가능하고, 전체 확률은 1이다. 즉 $\\int_{-\\infty}^{\\infty} f(\\epsilon) d\\epsilon=1$\n",
    "5. 실제값의 MLE는 측정값의 평균값이다. n번 측정하여 측정값을 $x_1,x_2 \\dots x_n$ 이라고 할 때, 가능도 함수 $L=f(x_1-\\mu)f(x_2-\\mu)\\dots f(x_n-\\mu)$는 $\\mu$ 에서 최대값을 가진다."
   ]
  },
  {
   "cell_type": "markdown",
   "metadata": {},
   "source": [
    "### Lo.2 Standardized score\n",
    "$$\n",
    "Z = \\left( \\frac{x-\\mu}{\\sigma} \\right)\n",
    "$$\n",
    "\n",
    "- If the distribution is normal : to determine the percentile score of a data point\n"
   ]
  },
  {
   "cell_type": "markdown",
   "metadata": {},
   "source": [
    "### Lo.3 Bernouilli distribution\n",
    "- $x \\in \\{ 0,1 \\}$ 와 같이 결과가 성공혹은 실패인 경우를 베르누이 시도라고 한다\n",
    "- 베르누이 확률 변수는 1이 나올 확률을 의미하는  $\\mu$ 라는 하나의 모수를 가진다. 변수와 모수는| 기호로 분리하였다. 0이 나올 확률은 $1-\\mu$  이다.\n",
    "- Distribution, success $\\mu$, fail $1-\\mu$\n",
    "<br/>\n",
    "$$\n",
    "Bern(x|\\mu)=\\mu^x(1-\\mu)^{1-x} \\qquad\n",
    "$$\n",
    "<br/>\n",
    "- Probability mass function 으로 정의한다면\n",
    "$$\n",
    "\\text{Bern}(x;\\mu) = \n",
    "\\begin{cases} \n",
    "\\mu   & \\text{if }x=1, \\\\\n",
    "1-\\mu & \\text{if }x=0\n",
    "\\end{cases}\n",
    "$$\n",
    "<br/>\n",
    "- Expected value & Variance\n",
    "$$\n",
    "E[x] = \\sum x_i P(x_i)=1 \\cdot \\mu + 0 \\cdot (1 - \\mu) =  \\mu\n",
    "$$\n",
    "<br/>\n",
    "$$\n",
    "var[x]=\\sum (x_i - \\mu)^2 P(x_i) = (1 - \\mu)^2 \\cdot \\mu + (0 - \\mu)^2 \\cdot (1 - \\mu)=\\mu(1-\\mu)\n",
    "$$\n",
    "<br/>\n",
    "- 만약 관찰데이터 $D= x_1,x_2 \\dots x_N$ 가 주어졌다고 할때 이 관찰값을 얻어낼 확률, 즉 가능도 함수는 다음과 같다\n",
    "$$\n",
    "p(D|\\mu)=\\prod_{n=1}^{N}p(x_n|\\mu)=\\prod_{n=1}^{N}\\mu^{x_n}(1-\\mu)^{1-x_n} \\qquad{(2.5)}\n",
    "$$\n",
    "<br/>\n",
    "$$\n",
    "\\ln p(D|\\mu)=\\sum_{n=1}^{N}\\ln p(x_n|\\mu)=\\sum_{n=1}^{N}\\left\\{x_n\\ln\\mu+(1-x_n)\\ln(1-\\mu)\\right\\} \\qquad{(2.6)}\n",
    "$$\n",
    "\n",
    "- 여기서 보면 이 함수는 오로지 관찰 데이터의 갯수 N으로만 영향을 받는다는 것이다.\n",
    "- 따라서 $\\frac{1}{N}\\sum{x_n}$ 을 이 분포의 충분 통계량 이라고 부른다 (sufficieant statistic) 이라고 부른다.\n",
    "- 미분을 통해 모수 추정을 해본다면\n",
    "\n",
    "> 모수 추정량 = 전체 데이터의 수, Success의 수\n",
    "$$\n",
    "\\mu_{ML}=\\dfrac{1}{N}\\sum_{n=1}^{N}x_n=\\dfrac{m}{N} \\qquad\n",
    "$$\n",
    "\n",
    "- 하지만 이렇게 모수 추정을 할 경우, over-fitting 의 문제가 있다. 데이터 셋이 3개인데 3번 시행이 다 성공한다면? \n",
    "- $\\mu$ 에 대한 사전 확률의 도입으로 overfitting을 해결 할 수 있다.\n",
    "\n",
    "-----------------\n",
    "### 베르누이 분포의 활용\n",
    "\n",
    "- 분류 예측 문제의 출력 데이터가 두 개의 값으로 구분되는 카테고리 값인 경우, 두 값 중 어느 값이 가능성이 높은지를 표현하기 위해 사용된다.\n",
    "- 입력 데이터가 0 또는 1 혹은 참 또는 거짓, 두 개의 값으로 구분되는 카테고리 값인 경우, 두 종류의 값이 나타나는 비율을 표현하기 위해 사용된다."
   ]
  },
  {
   "cell_type": "markdown",
   "metadata": {},
   "source": [
    "### Lo.4 Binomial distribution\n",
    "\n",
    "- Probability of haveing x sucess in n independent Bernouilli trials\n",
    "<br/>\n",
    "<br/>\n",
    "$$\n",
    "\\text{Number of scenarios x }P(Single scenario)\n",
    "$$\n",
    "\n",
    "$$\n",
    "p(x)=\\begin{pmatrix} n \\\\ x \\end{pmatrix}{ p }^{ x }{ (1-p) }^{ n-x },\\quad x=0,1,...n\n",
    "$$\n",
    "\n",
    "\n",
    "- The number of possible scenarios for obtaining x successes in n trials\n",
    "\n",
    "$$\n",
    "{n \\choose x}=\\dfrac{n!}{x!(n−x)!}\n",
    "$$\n",
    "\n",
    "- The trials are independent\n",
    "- The number of trials, n, is fixed\n",
    "- Each trial outcome can be calassified as a success or fail \n",
    "- The probability of a success, p, is the same for each trial"
   ]
  },
  {
   "cell_type": "markdown",
   "metadata": {},
   "source": [
    "### Lo.5 Difference between Bernouilli &binomial\n",
    "\n",
    "시행횟수가 차이이다. 베르누이 분포는 각각의 베르누이 시행에 대한 확률을 부여한다. 이항분포는 베르누이 시행을 n번 했을 떄 전체 경우에 대한 확률을 부여하는 분포이다.\n",
    "- 베르누이 분포는 모수가 p하나이며\n",
    "- 이항 분포는 모수가 n,p 두개이다\n"
   ]
  },
  {
   "cell_type": "markdown",
   "metadata": {},
   "source": [
    "### Lo.6 Normal approximation to binomial\n",
    "확률변수 $X$가 이항분포 $B(n,p)$를 따르고 $n$이 충분히 클 때, 정규분포 $N(np,npq)$에 따른다고 여겨 근삿값을 구하면 된다. ($5≤np$이고 $5≤nq$일 때, $n$이 충분히 크다고 한다.)\n"
   ]
  },
  {
   "cell_type": "code",
   "execution_count": null,
   "metadata": {
    "collapsed": true
   },
   "outputs": [],
   "source": []
  }
 ],
 "metadata": {
  "kernelspec": {
   "display_name": "Python 3",
   "language": "python",
   "name": "python3"
  },
  "language_info": {
   "codemirror_mode": {
    "name": "ipython",
    "version": 3
   },
   "file_extension": ".py",
   "mimetype": "text/x-python",
   "name": "python",
   "nbconvert_exporter": "python",
   "pygments_lexer": "ipython3",
   "version": "3.6.5"
  }
 },
 "nbformat": 4,
 "nbformat_minor": 2
}
