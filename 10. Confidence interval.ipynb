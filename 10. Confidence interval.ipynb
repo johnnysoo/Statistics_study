{
 "cells": [
  {
   "cell_type": "markdown",
   "metadata": {},
   "source": [
    "# Confindence Level\n",
    "- The Percentage of random samples which yield confidence intervals that capture the true population parameter\n",
    "- The plausible range of values for a population parameter.\n",
    "\n",
    "<br/>\n",
    "If we want to be very certain that we capture the population parameter, show we use a __wider interval__ or __narrower interval__\n",
    "\n",
    "- wider interval -> large variance -> large accuracy -> low precise\n",
    "- narrower interval -> low variance -> low accuracy -> large precise\n",
    "\n",
    "<br/>\n",
    "we can get higher precision and higher accuracy?\n",
    "- increase sample size"
   ]
  },
  {
   "cell_type": "markdown",
   "metadata": {},
   "source": [
    "### Central Limit Theorem is about the distribution of point estimates, and distribution will be nearly normal\n",
    "\n",
    "$$\n",
    "\\bar{x} \\sim N \\left( mean = \\mu, SE = \\frac{\\sigma}{\\sqrt{n}} \\right)\n",
    "$$\n",
    "\n",
    "1. Sample size is sufficiently large (n>= 30, or Data are considerably skewed)\n",
    "2. Population is known to have a normal distribution\n",
    "3. Observation in the sample are independent"
   ]
  },
  {
   "cell_type": "markdown",
   "metadata": {},
   "source": [
    "### Indenpendent of sample\n",
    "\n",
    "- random sampling\n",
    "- random assignment\n",
    "- since samples that are too large will likely contain observations that are not independent."
   ]
  },
  {
   "cell_type": "markdown",
   "metadata": {},
   "source": [
    "### Point estimate (suggeted by the CLT)\n",
    "$$\n",
    "point~estimate \\pm z^\\star \\times SE\n",
    "$$\n",
    "\n",
    "- z corresponds to the cutoff points in the standard normal distribution to capture the middle XX% of the data, where XX% is the desired confidence level."
   ]
  },
  {
   "cell_type": "markdown",
   "metadata": {},
   "source": []
  }
 ],
 "metadata": {
  "kernelspec": {
   "display_name": "Python 3",
   "language": "python",
   "name": "python3"
  },
  "language_info": {
   "codemirror_mode": {
    "name": "ipython",
    "version": 3
   },
   "file_extension": ".py",
   "mimetype": "text/x-python",
   "name": "python",
   "nbconvert_exporter": "python",
   "pygments_lexer": "ipython3",
   "version": "3.6.3"
  }
 },
 "nbformat": 4,
 "nbformat_minor": 2
}
