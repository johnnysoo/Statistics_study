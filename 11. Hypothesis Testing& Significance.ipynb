{
 "cells": [
  {
   "cell_type": "markdown",
   "metadata": {},
   "source": [
    "본 문서는 추가적으로 \n",
    "- http://www.csus.edu/indiv/j/jgehrman/courses/stat50/hypthesistests/9hyptest.htm\n",
    "- https://datascienceschool.net/view-notebook/37a330dfc8de45e9ba475cbbd201ab53/\n",
    "을 참고했음을 밝힙니다."
   ]
  },
  {
   "cell_type": "markdown",
   "metadata": {},
   "source": [
    "# Hypothesis Testing\n",
    "\n",
    "### How the hypothesis testing framework resembles a court trial\n",
    "- The person is innocent (null hypothesis)\n",
    "- The person is guilty (alternative hypothesis)\n",
    "<br/>\n",
    "### Errors in court trial\n",
    "- The person is innocent but the jury finds the person guilty\n",
    "- The person is guilty but the jury declares the person to be innocents.\n",
    "- In our system of justice, the first error is condisered more serious than the second error. "
   ]
  },
  {
   "cell_type": "markdown",
   "metadata": {},
   "source": [
    "### Overview\n",
    "\n",
    "1. 데이터가 어떤 고정된(fixed) 확률 분포를 가지는 확률 변수라고 가정한다.\n",
    "<br/><br/>\n",
    "\n",
    "2. 확률 분포의 모수값이 특정한 값을 가진다고 __가정__한다. 이러한 가정을 귀무가설이라고 한다 __(null hypothesis)__\n",
    "<br/><br/>\n",
    "\n",
    "3. 만약 데이터가 주어진 귀무가설에 따른 표본이고, 이 표본 데이터를 특정한 수식에 따라 계산한 __숫자(표본평균?)__는 특정한 확률 분포를 따르게 된다. 이 숫자를 __검정통계량 (test statistic)__라고 하며, 검정 통계량의 확률 분포를 __검정 통계 분포(test statistics distribution)__이라고 한다. 검정 통계 분포의 종류 및 모수의 값은 처음 정한 가설 및 수식에 의해 결정된다.\n",
    "<br/><br/>\n",
    "\n",
    "4. 주어진 귀무가설이 맞으면서, 표본 데이터에 의해서 실제로 계산된 검정 통계량의 값과 같은 혹은 그보다 더 극단적인 (extreme), 또는 희귀한(rare)한 값이 나올 수 있는 확률을 계산한다. 이를 유의확률($p-vaule$)라고 한다.\n",
    "<br/><br/>\n",
    "\n",
    "5. 만약 유의확률이 미리 정한 특정한 기준보다 작을 경우를 생각해보자. 이 기준값을 유의 수준 (significance level)이라고 하는데 보통 1%~5% 정도의 작은 값을 지정한다. 유의 확률이 유의 수준으로 정한 값보다도 작다는 말은 해당 검정통계 분포에서 이 검정 통계치(혹은 극단적인 값)이 나올 확률이 작다는 의미 이므로 근본이 되는 가설이 틀렸다고 말한다. 이 경우를 기각__(reject)__라고 한다.\n",
    "<br/><br/>\n",
    "\n",
    "6. 만약 유의확률이 유의수준보다 크다면, 해당 검정 통계 분포에서 이 검정 통계치가 나오는 것이 불가능하지만은 않다는 의미이므로 귀무 가설을 기각할 수 없다. 이 경우를 채택__(accept)__라고한다."
   ]
  },
  {
   "cell_type": "markdown",
   "metadata": {},
   "source": [
    "### Recognize that in hypothesis testing we evaluate two competing clams (귀무 가설과 대립가설)\n",
    "- Null hypothesis \n",
    "    - represents a skeptical perspective or the status quo\n",
    "    - 데이터가 따르는 분포가 어떤 특정한 모수값으로 고정되어 있다.\n",
    "    - 귀무 가설은 확률 분포를 특정한 상태로 고정시켜야 하므로 반드시 등식(equality)으로 표현되어야 한다.\n",
    "\n",
    "- Alternative hypothesis\n",
    "    - represents an alternative under consideration,  range of possible parameter vaule\n",
    "    - 특정 값보다 크거나 작을 때를 말한다.\n",
    "    \n",
    "- examppe\n",
    "    1. 양측 검정 (two-tailed testing): 만약 $\\theta$가 0이 아님을 증명하고 싶다면\n",
    "    $$ H_0: \\theta = 0 ,\\;\\;\\; H_a: \\theta \\neq 0 $$\n",
    "    2. 단측 검정 (one-tail testing): 만약 $\\theta$가 0보다 크다는 것을 증명하고 싶다면\n",
    "    $$ H_0: \\theta = 0 ,\\;\\;\\; H_a: \\theta > 0 $$\n",
    "    3. 단측 검정 (one-tail testing): 만약 $\\theta$가 0보다 작음을 증명하고 싶다면\n",
    "    $$ H_0: \\theta = 0 ,\\;\\;\\; H_a: \\theta < 0 $$\n",
    "\n",
    "- 귀무가설과 대립가설이 반드시 서로 여집합의 관계일 필요는 없다.\n"
   ]
  },
  {
   "cell_type": "markdown",
   "metadata": {},
   "source": [
    "#### Test statistics (검정통계량)\n",
    "\n",
    "- 검정통계량은 데이터에 나타난 패턴을 요약하는 값으로, 귀무가설에 기반한 검정통계량 분포를 계싼하여, 귀무가설을 검증한다.\n",
    "\n",
    "- 데이터 분석에서 검정 통계량은 표본 데이터로 계산되는 함수이다. (ex. 표본평균)\n",
    "<br/>\n",
    "$$\n",
    "t = f(x_1, x_2, \\ldots, x_N)\n",
    "$$\n",
    "\n",
    "- 검정 통계량은 확률 변수의 표본데이터에서 계산된 값이므로, 정확히 예측할 수 없고 확률적이다. 따라서 검정 통계량 t 역시 확률 변수 T라는 새로운 확률 변수의 표본으로 볼수 있다.\n",
    "\n",
    "#### 베르누이 확률 분포를 따르는 확률 변수의 검정통계량은 이항분포를 따른다.\n",
    "> 전체 시도 횟수 N번중 성공횟수 n이라고 할때, 검정 통계량은 자유도 N과 모수 $\\sigma$를 가지는 이항분포를 따른다.\n",
    "    $$x \\sim \\text{Bern}  \\;\\; \\rightarrow \\;\\; t = \\sum x \\sim \\text{Bin}$$\n",
    "  \n",
    "#### 정규 분포를 따르는 확률 변수, 그리고 분산값 $\\sigma^2$를 알고있다.\n",
    "> 분산 모수의 값을 알고 있는 정규 분포 확률 변수에 대해서는 다음과 같이 표본 평균을 정규화한 값을 검정 통계량으로 쓴다. \n",
    "    $$\n",
    "    x \\sim \\mathcal{N}(\\mu, \\sigma^2) \\;\\; \\rightarrow \\;\\; z = \\dfrac{\\bar{x}-\\mu}{\\frac{\\sigma}{\\sqrt{N}}} \\sim \\mathcal{N}(z;0,1)\n",
    "    $$\n",
    "<br/>\n",
    "$$\n",
    "\\bar{x} = \\dfrac{1}{N}\\sum_{i=1}^{N} x_i\n",
    "$$\n",
    "    \n",
    "#### 정규 분포를 따르는 확률 변수, 그러나 분산값 $\\sigma^2$를 모르고 있다.\n",
    "> 분산 모수의 값을 모르고 있는 정규 분포 확률 변수에 대해서는 다음과 표본 평균을 표본 분산으로 정규화 한 값을 검정 통계량을 사용한다. 이 통계량은 자유도가 \n",
    "$N-1$ 인 표준 student-t 분포를 따른다.\n",
    "<br/>\n",
    "$$\n",
    "x \\sim \\mathcal{N}(\\mu, \\sigma^2) \\;\\; \\rightarrow \\;\\; t = \\dfrac{\\bar{x}-\\mu}{\\frac{s}{\\sqrt{N}}} \\sim t(t;0,1,N-1)\n",
    "$$\n",
    "<br/>\n",
    "$$\n",
    "\\bar{x} = \\dfrac{1}{N}\\sum_{i=1}^{N} x_i\n",
    "$$\n",
    "<br/>\n",
    "$$\n",
    "s^2 = \\dfrac{1}{N-1}\\sum_{i=1}^{N} (x_i-\\bar{x})^2\n",
    "$$    \n",
    "\n",
    "\n",
    "> 때론 분산 __모수 자체 $\\sigma^2$에 대한 검정을 한다__. 다음과 같이 표본 분산을 정규화한 값을 검정 통계량으로 쓴다. 이 검정 통계량은 자유도가 $N-1$인 카이 제곱 분포를 따른다. $N$은 데이터의 수이다.\n",
    "$$\n",
    "x \\sim \\mathcal{N}(\\mu, \\sigma^2) \\;\\; \\rightarrow \\;\\; t = (N-1)\\dfrac{s^2}{\\sigma^2} \\sim \\chi^2 (t;N-1)\n",
    "$$"
   ]
  },
  {
   "cell_type": "markdown",
   "metadata": {},
   "source": [
    "### P-value : conditional prbability of obtaining a sample statistic (검정 통계량의 유의 확률)\n",
    "\n",
    "검정 통계량이 따르는 검정 통계량 분포를 알고 있다면, 실제 데이터에서 계산한 검정 통계량 숫자가 분포에서 어느 부분쯤에 위치해 있는지를 알 수 있다. 이 위치를 나타내는 값이 바로 유의확률이다.\n",
    "\n",
    "- 검정 통계량의 유희확률은 귀무가설을 지지하는 정도\n",
    "- 검정 통계량의 유의확률은 검정 통계량과 같거나 더 극단적인(exreme) 또는 희귀한(rare) 나올 수 있는 확률.\n",
    "- 귀무가설이 맞음에도 불구하고, 대립가설을 옹호하는 현재 검정 통계량과 같은 표본 데이터가 나올 확률\n",
    "- Conditional probability of obtaining a sample statistic at least as extreme as the one observed given that the null hypothesis is true.\n",
    "<br/>\n",
    "> A = Observed or more extreme sample statistic\n",
    "<br/>\n",
    "(*extreme sample mean : 대립가설을 지지하는 결과*)\n",
    "<br/>\n",
    "<br/>\n",
    "> $P-vaule$ = $P(A\\;|\\;H_0 True)$\n",
    "<br/>\n",
    "따라서 유의확률이 아주 작으면 귀무가설을 기각하고 대립가설을 채택한다.\n"
   ]
  },
  {
   "cell_type": "markdown",
   "metadata": {},
   "source": [
    "### Compare the p-value to the significance level to make a decision between the hypotheses:\n",
    "\n",
    "- if the $p\\;value < significance\\;level$, reject null hypothesis since this means that obtain alternative hypothesis\n",
    "- 검정 통계량이 나오면 확률 밀도 함수를 사용하여 유의확률을 계산하는 것 처럼, 유의확률 값에 대해 해당하는 검정 통계량을 계산할 수 있다. 유의수준에 따라 계산된 검정 통계량을 __기각역(critical value)__라고 한다."
   ]
  },
  {
   "cell_type": "markdown",
   "metadata": {},
   "source": [
    "### 양측 유의확률\n",
    "- 이 식에서  $F(t)$  는 검정 통계량 분포의 누적 확률 분포 함수이다.\n",
    "- 이 식에서  t1,  t2 는 검정통계량의 확률 밀도  p(t) 와 같은 값을 가지는 두 개의 검정통계량이다. 둘 중 하나는  t 와 같다.\n",
    "$$\n",
    "H_0: \\theta = 0 ,\\;\\;\\; H_a: \\theta \\neq 0\n",
    "$$\n",
    "$$\n",
    "P( t_2 < T \\text{ or } T < t_1 | H_0 )  = F(t_1) + (1 - F(t_2))\n",
    "$$\n"
   ]
  },
  {
   "cell_type": "code",
   "execution_count": 5,
   "metadata": {
    "collapsed": true
   },
   "outputs": [],
   "source": [
    "import scipy as sp\n",
    "import scipy.stats as sp\n",
    "import numpy as np\n",
    "import matplotlib as plt\n",
    "import matplotlib.pyplot as plt\n",
    "\n",
    "\n",
    "%matplotlib inline"
   ]
  },
  {
   "cell_type": "code",
   "execution_count": 10,
   "metadata": {},
   "outputs": [
    {
     "data": {
      "image/png": "[encoded data removed]",
      "text/plain": [
       "<matplotlib.figure.Figure at 0x1a1307f0b8>"
      ]
     },
     "metadata": {},
     "output_type": "display_data"
    }
   ],
   "source": [
    "xx1 = np.linspace(-4, 4, 100)\n",
    "xx2 = np.linspace(-4, -2, 100)\n",
    "xx3 = np.linspace(2, 4, 100)\n",
    "\n",
    "plt.subplot(3, 1, 1)\n",
    "plt.fill_between(xx1, sp.norm.pdf(xx1), facecolor='green', alpha=0.1)\n",
    "plt.fill_between(xx2, sp.norm.pdf(xx2), facecolor='blue', alpha=0.35)\n",
    "plt.fill_between(xx3, sp.norm.pdf(xx3), facecolor='blue', alpha=0.35)\n",
    "plt.text(-3, 0.1, \"p-value=%5.3f\" % (2*sp.norm.cdf(-2)), horizontalalignment='center')\n",
    "plt.title(r\"Test statistics = 2. Two-tailed test. $H_a: \\mu \\neq 0$\")\n",
    "\n",
    "plt.subplot(3, 1, 2)\n",
    "plt.fill_between(xx1, sp.norm.pdf(xx1), facecolor='green', alpha=0.1)\n",
    "plt.fill_between(xx3, sp.norm.pdf(xx3), facecolor='blue', alpha=0.35)\n",
    "plt.text(3, 0.1, \"p-value=%5.3f\" % (sp.norm.cdf(-2)), horizontalalignment='center')\n",
    "plt.title(r\"Test statistics = 2. One-tailed test. $H_a: \\mu > 0$\")\n",
    "\n",
    "plt.subplot(3, 1, 3)\n",
    "plt.fill_between(xx1, sp.norm.pdf(xx1), facecolor='green', alpha=0.1)\n",
    "plt.fill_between(xx2, sp.norm.pdf(xx2), facecolor='blue', alpha=0.35)\n",
    "plt.text(-3, 0.1, \"p-value=%5.3f\" % (sp.norm.cdf(-2)), horizontalalignment='center')\n",
    "plt.title(r\"Test statistics = -2. One-tailed test. $H_a: \\mu < 0$\")\n",
    "\n",
    "plt.tight_layout()\n",
    "plt.show()"
   ]
  },
  {
   "cell_type": "code",
   "execution_count": null,
   "metadata": {
    "collapsed": true
   },
   "outputs": [],
   "source": []
  }
 ],
 "metadata": {
  "kernelspec": {
   "display_name": "Python 3",
   "language": "python",
   "name": "python3"
  },
  "language_info": {
   "codemirror_mode": {
    "name": "ipython",
    "version": 3
   },
   "file_extension": ".py",
   "mimetype": "text/x-python",
   "name": "python",
   "nbconvert_exporter": "python",
   "pygments_lexer": "ipython3",
   "version": "3.6.3"
  }
 },
 "nbformat": 4,
 "nbformat_minor": 2
}
