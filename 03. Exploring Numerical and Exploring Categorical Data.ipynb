{
 "cells": [
  {
   "cell_type": "markdown",
   "metadata": {},
   "source": [
    "# Numberical data"
   ]
  },
  {
   "cell_type": "markdown",
   "metadata": {},
   "source": [
    "### Lo 1. Understand relationship between two numerical variables\n",
    "- Direction : positive or negative\n",
    "- Form(Shape) : linear or non-linear\n",
    "- Strength (diverse & variance) : Strong(little variance), Weak(lot of variance)"
   ]
  },
  {
   "cell_type": "markdown",
   "metadata": {},
   "source": [
    "### Lo 2. Describe the distribution of a numerical variable, mention its shape, center, and spread"
   ]
  },
  {
   "cell_type": "markdown",
   "metadata": {},
   "source": [
    "### Lo 3. Center and spread\n",
    "\n",
    "- Center\n",
    "    - sample statistic (using point estimate)\n",
    "        - mean (the arithmetic average)\n",
    "        - median (the midpoint)\n",
    "        - mode (the most frequent observation)\n",
    "- Spread\n",
    "    - standard deviation (variability around the mean)\n",
    "    - range (max-min)\n",
    "    - interquartile (middle 50% of the distribution) : IQR = $Q3-Q1$"
   ]
  },
  {
   "cell_type": "markdown",
   "metadata": {},
   "source": [
    "### Lo 4. Shape of distribution \n",
    "- Symmetric (대칭성)\n",
    "- skeweness (첨도)\n",
    "- modality\n",
    "    - unimodal : one prominent pick\n",
    "    - bimodal : two prominent pick\n",
    "    - multimodal : many prominent pick\n",
    "    - uniform : no prominent pick"
   ]
  },
  {
   "cell_type": "markdown",
   "metadata": {},
   "source": [
    "### Lo 5. Visualization data's characteristic\n",
    "- Histogarm : provide a view of the __data density__ & Form"
   ]
  },
  {
   "cell_type": "markdown",
   "metadata": {},
   "source": [
    "### Lo 6. Define a robust statistic (굳건/강건)\n",
    "- measures on which extreme observations have little effect \n",
    "- 통계분석시 assumption이 있다. 만약 assumption이 위반되어도, 쓰려는 통계적 방법이 유용할때, 우리는 통계적 방법을 robust라고 한다.\n",
    "\n",
    "- Robust : median, IQR\n",
    "- Non-robust : mean, SD, Range"
   ]
  },
  {
   "cell_type": "markdown",
   "metadata": {},
   "source": [
    "### LO 7. Recognize when transformations (e.g. log) \n",
    "__Transformation__ : rescaling of the data using a function\n",
    "- log transformation\n",
    "    - often applied when much of the data cluster near zero and all obersvation are positive\n",
    "    - distribution of data more symmetric\n",
    "    - hence easier to model.\n",
    "- Square root\n",
    "- inverse\n",
    "\n",
    "#### Goal of transformation\n",
    "- to see the data structure differently\n",
    "- to reduce skew assist in modeling\n",
    "- to straighten a nonliear relationship in a scatterplot"
   ]
  },
  {
   "cell_type": "markdown",
   "metadata": {},
   "source": [
    "# Categorical Data"
   ]
  },
  {
   "cell_type": "markdown",
   "metadata": {},
   "source": [
    "### Lo 1. Exploring categorical variable\n",
    "- describe distribution of a single categorical variable\n",
    "- evaluate relationship between two categorical variables\n",
    "- evaluate relationship between a categorical and a numberical variable"
   ]
  },
  {
   "cell_type": "markdown",
   "metadata": {},
   "source": [
    "### Lo 2. Visualization\n",
    "- Frequency table :\n",
    "- Bar plot for categorical variable (not histogram)\n",
    "- segmented bar blot\n",
    "    - useful for visualizaing conditional frequency distributions\n",
    "    - compare relative frequencies ($X variable|sample$) to explore the relatinship between the variables\n",
    "- mosaicplot\n",
    "    - show marginal distribution\n",
    "- side-by-side box plots\n",
    "    - relationship between a numberical variable and a categorical variable"
   ]
  }
 ],
 "metadata": {
  "kernelspec": {
   "display_name": "Python 3",
   "language": "python",
   "name": "python3"
  },
  "language_info": {
   "codemirror_mode": {
    "name": "ipython",
    "version": 3
   },
   "file_extension": ".py",
   "mimetype": "text/x-python",
   "name": "python",
   "nbconvert_exporter": "python",
   "pygments_lexer": "ipython3",
   "version": "3.6.5"
  }
 },
 "nbformat": 4,
 "nbformat_minor": 2
}
