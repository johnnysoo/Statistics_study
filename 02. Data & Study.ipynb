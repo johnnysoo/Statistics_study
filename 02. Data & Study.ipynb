{
 "cells": [
  {
   "cell_type": "markdown",
   "metadata": {},
   "source": [
    "# 2.1 데이터(Data)와 변수(Variables)\n",
    "\n",
    "- 데이터 : 관측/실험 결과로 얻어진 결과의 값을 의미한다.(obsercation)\n",
    "- 변수 : 데이터가 입력되는 항목 (variable)"
   ]
  },
  {
   "cell_type": "markdown",
   "metadata": {},
   "source": [
    "### Lo 1. Identify variablese as numerical and categorical?\n",
    "\n",
    "- If the variable is __numerical(Quantitative)__, further classify as continuous or discrete based on whether or not the variable can take on an infinite number of values or only non-negative whole numbers, respectively\n",
    "- If the variable is __categorical(Qualitative)__, determine if it is ordinal based on whether or not the level have natural ordering"
   ]
  },
  {
   "cell_type": "markdown",
   "metadata": {},
   "source": [
    "### Lo 2. Define associated variables as variables that show some relationship with one another.\n",
    "- If categorize this relationship as positive or negative association, when possible\n"
   ]
  },
  {
   "cell_type": "markdown",
   "metadata": {},
   "source": [
    "### Lo 3. Define variables that are not associated as independent\n"
   ]
  },
  {
   "cell_type": "markdown",
   "metadata": {},
   "source": [
    "### Lo 4. Identify the explanatory variable in pair of variables as the variables suspected of affecting the other\n",
    "- Devide explanatory and response variable"
   ]
  },
  {
   "cell_type": "markdown",
   "metadata": {},
   "source": [
    "### Lo 5. Classify a study as observational or experimental, and determine and explain whether the results suggest correlation or causation.\n",
    "\n",
    "- __Observation (correlation)__ \n",
    "    - collect data in a way that does not directly interfere with how the data arise\n",
    "    - Only establish an association (correlation between $X$ and $Y$\n",
    "    - Retrospective : uses past data\n",
    "    - Prospective : data are collected throughout the study\n",
    "    - If __random sampling__ has been employed in data collection, the results should be __generalizable to the target population__\n",
    "    \n",
    "- __Experiment (causality)__\n",
    "    - randomly assign subjects to treatments\n",
    "    - Establish causal connections\n",
    "    - If __random assignment__ has been employed in study design, the results suggest __causality__\n"
   ]
  },
  {
   "cell_type": "markdown",
   "metadata": {},
   "source": [
    "### Lo 6. Question confounding variables and sources of bias in a given study\n",
    "\n",
    "- __confounding variable__\n",
    "<br/> 제 3의 변수의 영향 때문에 X와 Y사이에 비 원인적 연관성이 발생하는 경우, 제 3 변수는 X,Y 둘다 영향을 끼친다\n",
    "<br/>\n",
    "Extaneous variables that affect both X and Y, and that make it seem like there is relationship between them \n"
   ]
  },
  {
   "cell_type": "markdown",
   "metadata": {},
   "source": [
    "### Lo 7. Distinguish sampling, and recognize the benefits and drawbacks of choosing one sampling scheme over another.\n",
    "- __Simple random sampling__ : Each subject in the population is equally likely to be selected.\n",
    "- __Stratified sampling__ : First divide the population into __homogenous__ strata, then randomly sample from within each strata\n",
    "\n",
    "- __Cluster sampling__ : First divide the population into clusters (subjects within each cluster are non-homogenous, but similar), then ramdomly sample a few clusters, and then randomly sample from within each cluster.\n",
    "- __multistage sampleing__ : divide the population clusters, randomly sample a few clusters, then randomly sample within these clsuers.\n"
   ]
  },
  {
   "cell_type": "markdown",
   "metadata": {},
   "source": [
    "### Lo 8. Identify the four principles of experimental design and recognize their purposes \n",
    "- Control confounders : compare treatment of interest to a control group\n",
    "- randomize into treatment : randomly assign subject\n",
    "- replicate : a large sample or repeating experiemnt\n",
    "- block : any variables that might influence the response\n",
    "    - blocking during random assignment : blocking allows for controlling for such variables during random assignment.\n",
    "    - Stratifying during random sampling : Stratified sampling allows for controlling for possible confounders in the sampling stage"
   ]
  },
  {
   "cell_type": "markdown",
   "metadata": {},
   "source": [
    "### Lo 9. Identify if single or double blinding has been used in a study\n",
    "\n",
    "- blinding  : experiemntal units don't know which group they're in\n",
    "- Double-blind : both the experiemntal units and the researchers don't know the group assignment"
   ]
  },
  {
   "cell_type": "markdown",
   "metadata": {},
   "source": [
    "### Lo 10. random sampling, random assigning\n",
    "- random sampling\n",
    "    - Occurs when subjects are being selected for a study (추출시)\n",
    "    - Study's results are generalizable to the population at large\n",
    "\n",
    "- random assignment\n",
    "    - Occurs when experimental setting (시작부터 모집단에 특성부여 후 랜덤 추출)\n",
    "    - Study's results are causal conclusion based on the study\n",
    "    \n",
    "- 일반적으로 random sampling 먼저하고 random assignment를 진행한다."
   ]
  }
 ],
 "metadata": {
  "kernelspec": {
   "display_name": "Python 3",
   "language": "python",
   "name": "python3"
  },
  "language_info": {
   "codemirror_mode": {
    "name": "ipython",
    "version": 3
   },
   "file_extension": ".py",
   "mimetype": "text/x-python",
   "name": "python",
   "nbconvert_exporter": "python",
   "pygments_lexer": "ipython3",
   "version": "3.6.5"
  }
 },
 "nbformat": 4,
 "nbformat_minor": 2
}
