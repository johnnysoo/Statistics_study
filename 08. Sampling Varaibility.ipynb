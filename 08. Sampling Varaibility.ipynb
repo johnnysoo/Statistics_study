{
 "cells": [
  {
   "cell_type": "markdown",
   "metadata": {},
   "source": [
    "### Lo.1 Point estimate for a popluation parameter\n",
    "\n",
    "- The sample mean is used to estimate the population mean\n",
    "- Point estimate and sample statistic are synonymous.\n",
    "- Recognize the point estimates will vary from one sample to another.\n",
    "\n",
    "> __sample distribution(from sample)__ and __sampling distribution(from sample statistic)__ is different"
   ]
  },
  {
   "cell_type": "markdown",
   "metadata": {},
   "source": [
    "### Lo.2 Sampling variability (standard error) \n",
    "\n",
    "- Recognize the point estimates will vary from one sample to another.\n",
    "- Sampling variability of the mean(standard deviation of sample mean) = Standard error "
   ]
  },
  {
   "cell_type": "markdown",
   "metadata": {},
   "source": [
    "### Lo.3 Standard deviation($S$) and Standard error($SE$)\n",
    "\n",
    "- Standard deviation measures the variability in the data\n",
    "- standard error measures the variability in point estimates from different samples of the same size and from same population (samping varability)"
   ]
  },
  {
   "cell_type": "markdown",
   "metadata": {},
   "source": [
    "### Lo.4 Recognize that when the sample size n increases we would expect the sampling variability to decrease\n",
    "\n",
    "- Conceptually : When the size of each sample is alrge, the sample means will be much more consistent across samples\n",
    "- Mathematically : $SE = \\frac{\\sigma}{\\sqrt{n}}$, when $n$ increases $SE$ will decrease"
   ]
  },
  {
   "cell_type": "markdown",
   "metadata": {},
   "source": [
    "### Lo.5 Central Limit Theroem\n",
    "\n",
    "- Distribution of sample statistics is nearly normal.\n",
    "-  Shape, Center, Spread(Normal distribution)\n",
    "\n",
    "> ### condition for the CLT\n",
    "1. Independence : Sampled observations must be independent\n",
    "    - random sample/assignment\n",
    "    - if sampling without replacement, n < 10% of population\n",
    "2. Sample size/skew : Either the population distribution is normal, or if the population distribution is skewed, the sample size is large (rule of thumb: n> 30)"
   ]
  },
  {
   "cell_type": "markdown",
   "metadata": {},
   "source": []
  },
  {
   "cell_type": "markdown",
   "metadata": {},
   "source": []
  }
 ],
 "metadata": {
  "kernelspec": {
   "display_name": "Python 3",
   "language": "python",
   "name": "python3"
  },
  "language_info": {
   "codemirror_mode": {
    "name": "ipython",
    "version": 3
   },
   "file_extension": ".py",
   "mimetype": "text/x-python",
   "name": "python",
   "nbconvert_exporter": "python",
   "pygments_lexer": "ipython3",
   "version": "3.6.5"
  }
 },
 "nbformat": 4,
 "nbformat_minor": 2
}
