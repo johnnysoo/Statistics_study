{
 "cells": [
  {
   "cell_type": "markdown",
   "metadata": {},
   "source": [
    "# Probability & Random process\n",
    "\n",
    "- Probability theory is a branch of mathmatics that deal with uncertainity\n",
    "\n",
    "- Random proces: we know what outcomes could happen, but we don't know which particular outcome will happen.\n",
    "\n",
    "- Law of large number : states that as more observations are collected the proportion of occurrences with a particular outcome coverges to the probability of that outcome\n",
    "\n",
    "    - Frequentist : The probability of an outcome is the proportion of times if we observed the random process an infinite number of times.\n",
    "    - Bayesian : Probability as a subjective degree of belidf"
   ]
  },
  {
   "cell_type": "markdown",
   "metadata": {},
   "source": [
    "### Lo 1. Define the probability of an outcome\n",
    "proportion of times the outcome would occur if we observed the random process that gives rise to it an infinite number of items.\n",
    "- Experience : 어떤 Outcome 을 발생시키는 행위, 실험, 조사, 관찰\n",
    "- Sample space : 실험에서 얻을수 있는 모든 결과의 집합\n",
    "- Event : 어떤 실험에서 가능한 한개 또는 여러개의 결과, 표본공간의 부분집합\n",
    "- Probability : Chance or likelihood that some outcomes will happens."
   ]
  },
  {
   "cell_type": "markdown",
   "metadata": {},
   "source": [
    "### Lo 2. Events\n",
    "Long-run relative frequency of repeated independent events settles down to the turn probability as the number of trials increases\n",
    "- Disjoint\n",
    "- Independent"
   ]
  },
  {
   "cell_type": "markdown",
   "metadata": {},
   "source": [
    "### Lo 3. Define disjoint events as events that cannnot both happen at the same time\n",
    "- If A and B are disjoint $P(A \\cap B) = 0$"
   ]
  },
  {
   "cell_type": "markdown",
   "metadata": {},
   "source": [
    "### Lo 4. Distingish between disjoint and independent events\n",
    "- If A and B are independent, then having information on A does not tell us anything about B (Process view)\n",
    "- If A and B are disjoint, then knowing that A occurs tells us that B cannot occur. (Event view)\n",
    "- Disjoint(mutually exclusive) events are always dependent since if one events occurs we know the other one cannot\n",
    "\n",
    "<br/>\n",
    "- Example\n",
    "    - Outcomes of one coin toss are disjoint and dependent\n",
    "    - Outcomes of two coin tosses are independent"
   ]
  },
  {
   "cell_type": "markdown",
   "metadata": {},
   "source": [
    "### Lo 5. Define probability distribution as a list of the possible outcomes with corresponding probability\n",
    "\n",
    "probability distribution : lists all possible outcomes in the sample space, and the probabilities with which they occur.\n",
    "- The outcomes listed must be disjoint.\n",
    "- Each probability must be between 0 and 1.\n",
    "- The probabilities must total 1"
   ]
  },
  {
   "cell_type": "markdown",
   "metadata": {},
   "source": [
    "### Lo 6. Define complementary, union, intersection\n",
    "- If A and B are complementary, $P(A)+P(B) = 1$\n",
    "- Calculate the probability of union of events using the addition rule\n",
    "    - If A and B are not mutually exculsive,$P(AorB)=P(A)+P(B)-P(AandB)$\n",
    "    - If A and B are mutually exclusive, $P(AorB)=P(A)+P(B)$, because of $P(A\\cap B)=0$\n",
    "- Calculate the probability of intersection of independent events using the multiplication rule\n",
    "    - If A and B are independent,$P(AandB)=P(A)$ x $P(B)$\n",
    "    - If A and B are dependent, $P(AandB)=P(A|B)$ x $P(B)$"
   ]
  },
  {
   "cell_type": "markdown",
   "metadata": {},
   "source": [
    "### Lo 7. Disjoint vs complementary\n",
    "- Complemetary events are always necessarily disjoined by definition\n",
    "- However, Disjoint not necessarily alwas complimentary"
   ]
  },
  {
   "cell_type": "code",
   "execution_count": null,
   "metadata": {
    "collapsed": true
   },
   "outputs": [],
   "source": []
  }
 ],
 "metadata": {
  "kernelspec": {
   "display_name": "Python 3",
   "language": "python",
   "name": "python3"
  },
  "language_info": {
   "codemirror_mode": {
    "name": "ipython",
    "version": 3
   },
   "file_extension": ".py",
   "mimetype": "text/x-python",
   "name": "python",
   "nbconvert_exporter": "python",
   "pygments_lexer": "ipython3",
   "version": "3.6.5"
  }
 },
 "nbformat": 4,
 "nbformat_minor": 2
}
