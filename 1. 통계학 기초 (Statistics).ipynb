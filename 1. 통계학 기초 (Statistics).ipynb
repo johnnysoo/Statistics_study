{
 "cells": [
  {
   "cell_type": "markdown",
   "metadata": {},
   "source": [
    "위 문서는 Coursera DUKE 대학 statistics with R 강의를 기반으로 작성되었습니다"
   ]
  },
  {
   "cell_type": "markdown",
   "metadata": {},
   "source": [
    "# 통계학 (Statistics)\n",
    "데이터를 정보로 만드는 수단\n",
    "\n",
    "### 정의\n",
    "- 많은 양의 수치자료를 수집하고, 정리, 요약 및 해석하는 방법을 다루는 과학의 한 분야\n",
    "- 관심의 대상에 대한 자료를 수집하여, 정리, 요약하고, 이들 자료에 포함된 정보를 토대로 불확실한 사실에 대해 과학적 판단을 내릴 수 있도록 방법을 제시해주는 학문\n",
    "- 관측 자료를 바탕으로 추론(inference)을 하는 과학의 한 분야로서 불확실성(uncertainty)하에서 보다 합리적인 의사 결정을 하는 방법을 제시해 주는 학문\n",
    "<br/>\n",
    "\n",
    "### 기술통계학 (descriptive statistics)\n",
    "수집된 자료를 정리 및 요약하는 방법을 다루는 통계학. 자료를 표와 그래프로 나타내고 대표값과 산포도로 전반적인 특성을 표현한다.\n",
    "\n",
    "- 표준화 (Standardization) : 데이터를 __비교,분석__하기위해 다양한 종류의 데이터를 정규분포를 기준으로 나타내는 거다. 관측값에서 평균을 뺴고 표준편차로 나눈다. \n",
    "\n",
    "### 추측 통계학 (Inferential statistics)\n",
    "주어진 자료의 정보를 분석해서 미래의 일어날 상황을 예측하는 통계학. 통계적 추론에서 얻어진 추측이니 어느정도 불확실서을 가지고 있다. 이를 표현하기 위해 확률론을 기반으로 둔다.\n",
    "\n",
    "#### 모집단과 표본\n",
    "- 모집단(population) : 관심 있는 특서을 수치로 나타낸 연구 대상. 연구 대상이 같더라도 관심을 가진 특성이 다르면 모집단도 달라질 수 있다.\n",
    "- 표본(Sample) : 모집단으로 부터 뽑은 부분집합. 조사대상을 의미한다.\n",
    "- 모수(Parameter) : 모집단의 특성을 나타내는 양적인 값으로 고유한 상수를 나타낸다.\n",
    "\n",
    "#### 모수에 대한 추론\n",
    "- 추정 (estimation) : 미지의 모수의 값이 얼마인지, 또는 어떤 범위내에 있는지 표본 결과로 부터 추측하는 것\n",
    "- 가설의 검정 (test of hypothesis) : 모수의 값의 범위를 구하는 두개의 결과를 세우고 참인지를 표본의 결과로 부터 판단하는 것."
   ]
  },
  {
   "cell_type": "markdown",
   "metadata": {},
   "source": [
    "# 확률론 vs 통계학\n",
    "\n",
    "- 확률론적 관점 : 이미 알고있는 모집단에서 어떤 사건이 일어날 것인가?\n",
    "- 통계적 관점 : 표본에서 얻은 정보를 이용하여 미지의 모집단을 추론해 보자"
   ]
  }
 ],
 "metadata": {
  "kernelspec": {
   "display_name": "Python 3",
   "language": "python",
   "name": "python3"
  },
  "language_info": {
   "codemirror_mode": {
    "name": "ipython",
    "version": 3.0
   },
   "file_extension": ".py",
   "mimetype": "text/x-python",
   "name": "python",
   "nbconvert_exporter": "python",
   "pygments_lexer": "ipython3",
   "version": "3.6.3"
  }
 },
 "nbformat": 4,
 "nbformat_minor": 0
}